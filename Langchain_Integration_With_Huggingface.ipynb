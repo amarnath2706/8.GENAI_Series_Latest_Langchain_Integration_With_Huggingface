{
  "nbformat": 4,
  "nbformat_minor": 0,
  "metadata": {
    "colab": {
      "provenance": []
    },
    "kernelspec": {
      "name": "python3",
      "display_name": "Python 3"
    },
    "language_info": {
      "name": "python"
    }
  },
  "cells": [
    {
      "cell_type": "code",
      "execution_count": null,
      "metadata": {
        "id": "wa4BLQY2u7cu"
      },
      "outputs": [],
      "source": [
        "#Install required libraries\n",
        "!pip install langchain langchain_community\n",
        "#For API Calls\n",
        "!pip install huggingface_hub\n",
        "!pip install transformers #Access huggingface models\n",
        "!pip install accelerate\n",
        "!pip install  bitsandbytes #GPU"
      ]
    },
    {
      "cell_type": "code",
      "source": [
        "#import required librarires\n",
        "from langchain import PromptTemplate, HuggingFaceHub, LLMChain\n",
        "import os"
      ],
      "metadata": {
        "id": "HvDhMvdUvMJz"
      },
      "execution_count": null,
      "outputs": []
    },
    {
      "cell_type": "code",
      "source": [
        "#Settingup the environment\n",
        "os.environ['HUGGINGFACEHUB_API_TOKEN'] = '*****************************huggingfaceapikey****************************'"
      ],
      "metadata": {
        "id": "P5aVM0mMvRHB"
      },
      "execution_count": null,
      "outputs": []
    },
    {
      "cell_type": "code",
      "source": [
        "#We can access huggingface with the help of two methods\n",
        "#1.Api Request\n",
        "#2.Download and use the model"
      ],
      "metadata": {
        "id": "VZRuq6OcxI4t"
      },
      "execution_count": null,
      "outputs": []
    },
    {
      "cell_type": "code",
      "source": [
        "#Approach 1\n",
        "#Accessing the models with the help of API\n",
        "#Here we are accessing one text to text model\n",
        "\n",
        "prompt = PromptTemplate(\n",
        "    input_variables=[\"product\"],\n",
        "    template=\"What is a good name for a company that makes {product}\"\n",
        ")"
      ],
      "metadata": {
        "id": "82tqRMXfxI7T"
      },
      "execution_count": null,
      "outputs": []
    },
    {
      "cell_type": "code",
      "source": [
        "chain = LLMChain(llm=HuggingFaceHub(repo_id='google/flan-t5-large', model_kwargs={'temperature':0, 'max_length':64}),prompt = prompt)"
      ],
      "metadata": {
        "id": "KyeW01ORxI-n"
      },
      "execution_count": null,
      "outputs": []
    },
    {
      "cell_type": "code",
      "source": [],
      "metadata": {
        "id": "a3ymTER_z6Qk"
      },
      "execution_count": null,
      "outputs": []
    },
    {
      "cell_type": "code",
      "source": [
        "chain.run(\"colorful socks\")"
      ],
      "metadata": {
        "id": "hWx2NVTXz6T2"
      },
      "execution_count": null,
      "outputs": []
    },
    {
      "cell_type": "code",
      "source": [
        "prompt = PromptTemplate(\n",
        "    input_variables=[\"name\"],\n",
        "    template=\"Can you tell me about famous footballer {name}\"\n",
        ")"
      ],
      "metadata": {
        "id": "e42qxZhFz9zQ"
      },
      "execution_count": null,
      "outputs": []
    },
    {
      "cell_type": "code",
      "source": [
        "chain = LLMChain(llm=HuggingFaceHub(repo_id='google/flan-t5-large', model_kwargs={'temperature':0, 'max_length':64}),prompt = prompt)"
      ],
      "metadata": {
        "id": "SQe6q88yz92S"
      },
      "execution_count": null,
      "outputs": []
    },
    {
      "cell_type": "code",
      "source": [
        "chain.run(\"Messi\")"
      ],
      "metadata": {
        "id": "8vqVj91fz94y"
      },
      "execution_count": null,
      "outputs": []
    },
    {
      "cell_type": "code",
      "source": [
        "prompt = PromptTemplate(\n",
        "    input_variables=[\"cusine\"],\n",
        "    template=\"Can you tell me food items for a  {cusine} restuarant\"\n",
        ")"
      ],
      "metadata": {
        "id": "pTN8ss1tz97j"
      },
      "execution_count": null,
      "outputs": []
    },
    {
      "cell_type": "code",
      "source": [
        "chain = LLMChain(llm=HuggingFaceHub(repo_id='google/flan-t5-large', model_kwargs={'temperature':0, 'max_length':64}),prompt = prompt)"
      ],
      "metadata": {
        "id": "gtCMhQERz9-D"
      },
      "execution_count": null,
      "outputs": []
    },
    {
      "cell_type": "code",
      "source": [
        "chain.run(\"indian\")"
      ],
      "metadata": {
        "id": "KnS8UcJzz-BN"
      },
      "execution_count": null,
      "outputs": []
    },
    {
      "cell_type": "code",
      "source": [
        "#Text Generation Models | Decoder Only Models"
      ],
      "metadata": {
        "id": "NS9djLTu9Gvc"
      },
      "execution_count": null,
      "outputs": []
    },
    {
      "cell_type": "code",
      "source": [
        "prompt = PromptTemplate(\n",
        "    input_variables=[\"name\"],\n",
        "    template=\"Can you tell me about famous footballer {name}\"\n",
        ")"
      ],
      "metadata": {
        "id": "2ctsccfx9GyO"
      },
      "execution_count": null,
      "outputs": []
    },
    {
      "cell_type": "code",
      "source": [
        "chain = LLMChain(llm=HuggingFaceHub(repo_id='tiiuae/falcon-7b', model_kwargs={'temperature':0.1, 'max_length':64}),prompt = prompt)"
      ],
      "metadata": {
        "id": "LQs1_VGG9G0q"
      },
      "execution_count": null,
      "outputs": []
    },
    {
      "cell_type": "code",
      "source": [
        "chain.run(\"Messi\")"
      ],
      "metadata": {
        "id": "rVA72-Uc9G3t"
      },
      "execution_count": null,
      "outputs": []
    },
    {
      "cell_type": "code",
      "source": [
        "#Approach 2\n",
        "#Download the model locally and Create the pipeline\n",
        "\n",
        "#Import the necessary libraries\n",
        "from langchain.llms import HuggingFacePipeline\n",
        "import torch\n",
        "from transformers import AutoTokenizer, AutoModelForCausalLM, pipeline, AutoModelForSeq2SeqLM"
      ],
      "metadata": {
        "id": "8t4bKQ-S9P0r"
      },
      "execution_count": null,
      "outputs": []
    },
    {
      "cell_type": "code",
      "source": [
        "model_id = 'google/flan-t5-large'"
      ],
      "metadata": {
        "id": "ne02v6pJ9G6m"
      },
      "execution_count": null,
      "outputs": []
    },
    {
      "cell_type": "code",
      "source": [
        "tokenizer = AutoTokenizer.from_pretrained(model_id)"
      ],
      "metadata": {
        "id": "Dm6BM-S89iNa"
      },
      "execution_count": null,
      "outputs": []
    },
    {
      "cell_type": "code",
      "source": [
        "model = AutoModelForSeq2SeqLM.from_pretrained(model_id, load_in_8bit=True, device_map='auto')"
      ],
      "metadata": {
        "id": "KnBbxRcs9iQG"
      },
      "execution_count": null,
      "outputs": []
    },
    {
      "cell_type": "code",
      "source": [
        "#Create the pipeline\n",
        "pipeline = pipeline(\"text2text-generation\", model=model, tokenizer=tokenizer, max_length=128)"
      ],
      "metadata": {
        "id": "bH6CtV4q9iSe"
      },
      "execution_count": null,
      "outputs": []
    },
    {
      "cell_type": "code",
      "source": [
        "#Initialize the LLM wrapper\n",
        "local_llm = HuggingFacePipeline(pipeline=pipeline)"
      ],
      "metadata": {
        "id": "zaVzUgvf9iVg"
      },
      "execution_count": null,
      "outputs": []
    },
    {
      "cell_type": "code",
      "source": [
        "#Create the prompt template\n",
        "prompt = PromptTemplate(\n",
        "    input_variables=[\"product\"],\n",
        "    template=\"What is a good name for a company that makes {product}\"\n",
        ")"
      ],
      "metadata": {
        "id": "9EQVlop09iYq"
      },
      "execution_count": null,
      "outputs": []
    },
    {
      "cell_type": "code",
      "source": [
        "#Pass to the LLM Chain\n",
        "chain = LLMChain(llm=local_llm,prompt = prompt)"
      ],
      "metadata": {
        "id": "UZfRCeKw9rmk"
      },
      "execution_count": null,
      "outputs": []
    },
    {
      "cell_type": "code",
      "source": [
        "chain.run(\"colorful socks\")"
      ],
      "metadata": {
        "id": "skffOP8g9rpN"
      },
      "execution_count": null,
      "outputs": []
    },
    {
      "cell_type": "code",
      "source": [
        "prompt = PromptTemplate(\n",
        "    input_variables=[\"name\"],\n",
        "    template=\"Can you tell me about famous footballer {name}\"\n",
        ")"
      ],
      "metadata": {
        "id": "nk6QwUzx9rrz"
      },
      "execution_count": null,
      "outputs": []
    },
    {
      "cell_type": "code",
      "source": [
        "chain = LLMChain(llm=local_llm,prompt = prompt)"
      ],
      "metadata": {
        "id": "76PxSsDG9ruL"
      },
      "execution_count": null,
      "outputs": []
    },
    {
      "cell_type": "code",
      "source": [
        "chain.run(\"Messi\")"
      ],
      "metadata": {
        "id": "Lbq5baEN9rxd"
      },
      "execution_count": null,
      "outputs": []
    },
    {
      "cell_type": "code",
      "source": [],
      "metadata": {
        "id": "gb7_jODS9r5l"
      },
      "execution_count": null,
      "outputs": []
    }
  ]
}